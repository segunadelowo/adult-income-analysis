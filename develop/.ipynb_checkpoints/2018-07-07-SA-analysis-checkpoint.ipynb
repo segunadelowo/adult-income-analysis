{
 "cells": [
  {
   "cell_type": "markdown",
   "metadata": {},
   "source": [
    "###  Problem definition:\n",
    "Prediction task to determine whether a person makes over 50k a year."
   ]
  },
  {
   "cell_type": "code",
   "execution_count": 3,
   "metadata": {
    "collapsed": true
   },
   "outputs": [],
   "source": [
    "# Import modules\n",
    "import pandas as pd\n",
    "from pandas import set_option\n",
    "from pandas.plotting import scatter_matrix \n",
    "import matplotlib.pyplot as plt\n",
    "import seaborn as sns\n",
    "import numpy as np\n",
    "from sklearn.preprocessing import StandardScaler\n",
    "from sklearn.model_selection import train_test_split\n",
    "from sklearn.model_selection import KFold\n",
    "from sklearn.model_selection import cross_val_score\n",
    "from sklearn.model_selection import GridSearchCV\n",
    "from sklearn.metrics import classification_report\n",
    "from sklearn.metrics import confusion_matrix\n",
    "from sklearn.metrics import accuracy_score\n",
    "from sklearn.pipeline import Pipeline\n",
    "from sklearn.linear_model import LogisticRegression\n",
    "from sklearn.tree import DecisionTreeClassifier\n",
    "from sklearn.neighbors import KNeighborsClassifier\n",
    "from sklearn.discriminant_analysis import LinearDiscriminantAnalysis\n",
    "from sklearn.naive_bayes import GaussianNB\n",
    "from sklearn.svm import SVC\n",
    "from sklearn.ensemble import AdaBoostClassifier\n",
    "from sklearn.ensemble import GradientBoostingClassifier\n",
    "from sklearn.ensemble import RandomForestClassifier\n",
    "from sklearn.ensemble import ExtraTreesClassifier\n",
    "from sklearn import tree\n",
    "\n",
    "# Figures inline and set visualization style\n",
    "%matplotlib inline\n",
    "sns.set()"
   ]
  },
  {
   "cell_type": "markdown",
   "metadata": {},
   "source": [
    "### Load dataset"
   ]
  },
  {
   "cell_type": "code",
   "execution_count": 4,
   "metadata": {},
   "outputs": [],
   "source": [
    "# Import datasets\n",
    "filename = '../data/processed/dataset.csv'\n",
    "dataset_model = pd.read_csv(filename, sep=',')"
   ]
  },
  {
   "cell_type": "code",
   "execution_count": 5,
   "metadata": {},
   "outputs": [
    {
     "data": {
      "text/html": [
       "<div>\n",
       "<style scoped>\n",
       "    .dataframe tbody tr th:only-of-type {\n",
       "        vertical-align: middle;\n",
       "    }\n",
       "\n",
       "    .dataframe tbody tr th {\n",
       "        vertical-align: top;\n",
       "    }\n",
       "\n",
       "    .dataframe thead th {\n",
       "        text-align: right;\n",
       "    }\n",
       "</style>\n",
       "<table border=\"1\" class=\"dataframe\">\n",
       "  <thead>\n",
       "    <tr style=\"text-align: right;\">\n",
       "      <th></th>\n",
       "      <th>Unnamed: 0</th>\n",
       "      <th>age</th>\n",
       "      <th>workclass</th>\n",
       "      <th>education</th>\n",
       "      <th>education_num</th>\n",
       "      <th>marital_status</th>\n",
       "      <th>occupation</th>\n",
       "      <th>relationship</th>\n",
       "      <th>race</th>\n",
       "      <th>sex</th>\n",
       "      <th>hours_per_week</th>\n",
       "      <th>income_target</th>\n",
       "    </tr>\n",
       "  </thead>\n",
       "  <tbody>\n",
       "    <tr>\n",
       "      <th>0</th>\n",
       "      <td>0</td>\n",
       "      <td>39</td>\n",
       "      <td>State-gov</td>\n",
       "      <td>Bachelors</td>\n",
       "      <td>13</td>\n",
       "      <td>Never-married</td>\n",
       "      <td>Adm-clerical</td>\n",
       "      <td>Not-in-family</td>\n",
       "      <td>White</td>\n",
       "      <td>Male</td>\n",
       "      <td>40</td>\n",
       "      <td>0</td>\n",
       "    </tr>\n",
       "    <tr>\n",
       "      <th>1</th>\n",
       "      <td>1</td>\n",
       "      <td>50</td>\n",
       "      <td>Self-emp-not-inc</td>\n",
       "      <td>Bachelors</td>\n",
       "      <td>13</td>\n",
       "      <td>Married-civ-spouse</td>\n",
       "      <td>Exec-managerial</td>\n",
       "      <td>Husband</td>\n",
       "      <td>White</td>\n",
       "      <td>Male</td>\n",
       "      <td>13</td>\n",
       "      <td>0</td>\n",
       "    </tr>\n",
       "    <tr>\n",
       "      <th>2</th>\n",
       "      <td>2</td>\n",
       "      <td>38</td>\n",
       "      <td>Private</td>\n",
       "      <td>HS-grad</td>\n",
       "      <td>9</td>\n",
       "      <td>Divorced</td>\n",
       "      <td>Handlers-cleaners</td>\n",
       "      <td>Not-in-family</td>\n",
       "      <td>White</td>\n",
       "      <td>Male</td>\n",
       "      <td>40</td>\n",
       "      <td>0</td>\n",
       "    </tr>\n",
       "    <tr>\n",
       "      <th>3</th>\n",
       "      <td>3</td>\n",
       "      <td>53</td>\n",
       "      <td>Private</td>\n",
       "      <td>11th</td>\n",
       "      <td>7</td>\n",
       "      <td>Married-civ-spouse</td>\n",
       "      <td>Handlers-cleaners</td>\n",
       "      <td>Husband</td>\n",
       "      <td>Black</td>\n",
       "      <td>Male</td>\n",
       "      <td>40</td>\n",
       "      <td>0</td>\n",
       "    </tr>\n",
       "    <tr>\n",
       "      <th>4</th>\n",
       "      <td>4</td>\n",
       "      <td>28</td>\n",
       "      <td>Private</td>\n",
       "      <td>Bachelors</td>\n",
       "      <td>13</td>\n",
       "      <td>Married-civ-spouse</td>\n",
       "      <td>Prof-specialty</td>\n",
       "      <td>Wife</td>\n",
       "      <td>Black</td>\n",
       "      <td>Female</td>\n",
       "      <td>40</td>\n",
       "      <td>0</td>\n",
       "    </tr>\n",
       "  </tbody>\n",
       "</table>\n",
       "</div>"
      ],
      "text/plain": [
       "   Unnamed: 0  age          workclass   education  education_num  \\\n",
       "0           0   39          State-gov   Bachelors             13   \n",
       "1           1   50   Self-emp-not-inc   Bachelors             13   \n",
       "2           2   38            Private     HS-grad              9   \n",
       "3           3   53            Private        11th              7   \n",
       "4           4   28            Private   Bachelors             13   \n",
       "\n",
       "        marital_status          occupation    relationship    race      sex  \\\n",
       "0        Never-married        Adm-clerical   Not-in-family   White     Male   \n",
       "1   Married-civ-spouse     Exec-managerial         Husband   White     Male   \n",
       "2             Divorced   Handlers-cleaners   Not-in-family   White     Male   \n",
       "3   Married-civ-spouse   Handlers-cleaners         Husband   Black     Male   \n",
       "4   Married-civ-spouse      Prof-specialty            Wife   Black   Female   \n",
       "\n",
       "   hours_per_week  income_target  \n",
       "0              40              0  \n",
       "1              13              0  \n",
       "2              40              0  \n",
       "3              40              0  \n",
       "4              40              0  "
      ]
     },
     "execution_count": 5,
     "metadata": {},
     "output_type": "execute_result"
    }
   ],
   "source": [
    "dataset_model.head()"
   ]
  },
  {
   "cell_type": "code",
   "execution_count": 6,
   "metadata": {},
   "outputs": [
    {
     "data": {
      "text/html": [
       "<div>\n",
       "<style scoped>\n",
       "    .dataframe tbody tr th:only-of-type {\n",
       "        vertical-align: middle;\n",
       "    }\n",
       "\n",
       "    .dataframe tbody tr th {\n",
       "        vertical-align: top;\n",
       "    }\n",
       "\n",
       "    .dataframe thead th {\n",
       "        text-align: right;\n",
       "    }\n",
       "</style>\n",
       "<table border=\"1\" class=\"dataframe\">\n",
       "  <thead>\n",
       "    <tr style=\"text-align: right;\">\n",
       "      <th></th>\n",
       "      <th>Unnamed: 0</th>\n",
       "      <th>age</th>\n",
       "      <th>education_num</th>\n",
       "      <th>hours_per_week</th>\n",
       "      <th>income_target</th>\n",
       "    </tr>\n",
       "  </thead>\n",
       "  <tbody>\n",
       "    <tr>\n",
       "      <th>count</th>\n",
       "      <td>32561.000000</td>\n",
       "      <td>32561.000000</td>\n",
       "      <td>32561.000000</td>\n",
       "      <td>32561.000000</td>\n",
       "      <td>32561.000000</td>\n",
       "    </tr>\n",
       "    <tr>\n",
       "      <th>mean</th>\n",
       "      <td>16280.000000</td>\n",
       "      <td>38.581647</td>\n",
       "      <td>10.080679</td>\n",
       "      <td>40.437456</td>\n",
       "      <td>0.240810</td>\n",
       "    </tr>\n",
       "    <tr>\n",
       "      <th>std</th>\n",
       "      <td>9399.695394</td>\n",
       "      <td>13.640433</td>\n",
       "      <td>2.572720</td>\n",
       "      <td>12.347429</td>\n",
       "      <td>0.427581</td>\n",
       "    </tr>\n",
       "    <tr>\n",
       "      <th>min</th>\n",
       "      <td>0.000000</td>\n",
       "      <td>17.000000</td>\n",
       "      <td>1.000000</td>\n",
       "      <td>1.000000</td>\n",
       "      <td>0.000000</td>\n",
       "    </tr>\n",
       "    <tr>\n",
       "      <th>25%</th>\n",
       "      <td>8140.000000</td>\n",
       "      <td>28.000000</td>\n",
       "      <td>9.000000</td>\n",
       "      <td>40.000000</td>\n",
       "      <td>0.000000</td>\n",
       "    </tr>\n",
       "    <tr>\n",
       "      <th>50%</th>\n",
       "      <td>16280.000000</td>\n",
       "      <td>37.000000</td>\n",
       "      <td>10.000000</td>\n",
       "      <td>40.000000</td>\n",
       "      <td>0.000000</td>\n",
       "    </tr>\n",
       "    <tr>\n",
       "      <th>75%</th>\n",
       "      <td>24420.000000</td>\n",
       "      <td>48.000000</td>\n",
       "      <td>12.000000</td>\n",
       "      <td>45.000000</td>\n",
       "      <td>0.000000</td>\n",
       "    </tr>\n",
       "    <tr>\n",
       "      <th>max</th>\n",
       "      <td>32560.000000</td>\n",
       "      <td>90.000000</td>\n",
       "      <td>16.000000</td>\n",
       "      <td>99.000000</td>\n",
       "      <td>1.000000</td>\n",
       "    </tr>\n",
       "  </tbody>\n",
       "</table>\n",
       "</div>"
      ],
      "text/plain": [
       "         Unnamed: 0           age  education_num  hours_per_week  \\\n",
       "count  32561.000000  32561.000000   32561.000000    32561.000000   \n",
       "mean   16280.000000     38.581647      10.080679       40.437456   \n",
       "std     9399.695394     13.640433       2.572720       12.347429   \n",
       "min        0.000000     17.000000       1.000000        1.000000   \n",
       "25%     8140.000000     28.000000       9.000000       40.000000   \n",
       "50%    16280.000000     37.000000      10.000000       40.000000   \n",
       "75%    24420.000000     48.000000      12.000000       45.000000   \n",
       "max    32560.000000     90.000000      16.000000       99.000000   \n",
       "\n",
       "       income_target  \n",
       "count   32561.000000  \n",
       "mean        0.240810  \n",
       "std         0.427581  \n",
       "min         0.000000  \n",
       "25%         0.000000  \n",
       "50%         0.000000  \n",
       "75%         0.000000  \n",
       "max         1.000000  "
      ]
     },
     "execution_count": 6,
     "metadata": {},
     "output_type": "execute_result"
    }
   ],
   "source": [
    "dataset_model.describe()"
   ]
  },
  {
   "cell_type": "code",
   "execution_count": 7,
   "metadata": {
    "collapsed": true
   },
   "outputs": [],
   "source": [
    "# select age, education, hoursperweek, occupation, and sex\n",
    "dataset_model_sub = pd.DataFrame(dataset_model,columns=['age', 'education', 'hours_per_week', 'occupation', 'sex','income_target'])"
   ]
  },
  {
   "cell_type": "code",
   "execution_count": 8,
   "metadata": {},
   "outputs": [
    {
     "data": {
      "text/html": [
       "<div>\n",
       "<style scoped>\n",
       "    .dataframe tbody tr th:only-of-type {\n",
       "        vertical-align: middle;\n",
       "    }\n",
       "\n",
       "    .dataframe tbody tr th {\n",
       "        vertical-align: top;\n",
       "    }\n",
       "\n",
       "    .dataframe thead th {\n",
       "        text-align: right;\n",
       "    }\n",
       "</style>\n",
       "<table border=\"1\" class=\"dataframe\">\n",
       "  <thead>\n",
       "    <tr style=\"text-align: right;\">\n",
       "      <th></th>\n",
       "      <th>age</th>\n",
       "      <th>education</th>\n",
       "      <th>hours_per_week</th>\n",
       "      <th>occupation</th>\n",
       "      <th>sex</th>\n",
       "      <th>income_target</th>\n",
       "    </tr>\n",
       "  </thead>\n",
       "  <tbody>\n",
       "    <tr>\n",
       "      <th>0</th>\n",
       "      <td>39</td>\n",
       "      <td>Bachelors</td>\n",
       "      <td>40</td>\n",
       "      <td>Adm-clerical</td>\n",
       "      <td>Male</td>\n",
       "      <td>0</td>\n",
       "    </tr>\n",
       "    <tr>\n",
       "      <th>1</th>\n",
       "      <td>50</td>\n",
       "      <td>Bachelors</td>\n",
       "      <td>13</td>\n",
       "      <td>Exec-managerial</td>\n",
       "      <td>Male</td>\n",
       "      <td>0</td>\n",
       "    </tr>\n",
       "    <tr>\n",
       "      <th>2</th>\n",
       "      <td>38</td>\n",
       "      <td>HS-grad</td>\n",
       "      <td>40</td>\n",
       "      <td>Handlers-cleaners</td>\n",
       "      <td>Male</td>\n",
       "      <td>0</td>\n",
       "    </tr>\n",
       "    <tr>\n",
       "      <th>3</th>\n",
       "      <td>53</td>\n",
       "      <td>11th</td>\n",
       "      <td>40</td>\n",
       "      <td>Handlers-cleaners</td>\n",
       "      <td>Male</td>\n",
       "      <td>0</td>\n",
       "    </tr>\n",
       "    <tr>\n",
       "      <th>4</th>\n",
       "      <td>28</td>\n",
       "      <td>Bachelors</td>\n",
       "      <td>40</td>\n",
       "      <td>Prof-specialty</td>\n",
       "      <td>Female</td>\n",
       "      <td>0</td>\n",
       "    </tr>\n",
       "  </tbody>\n",
       "</table>\n",
       "</div>"
      ],
      "text/plain": [
       "   age   education  hours_per_week          occupation      sex  income_target\n",
       "0   39   Bachelors              40        Adm-clerical     Male              0\n",
       "1   50   Bachelors              13     Exec-managerial     Male              0\n",
       "2   38     HS-grad              40   Handlers-cleaners     Male              0\n",
       "3   53        11th              40   Handlers-cleaners     Male              0\n",
       "4   28   Bachelors              40      Prof-specialty   Female              0"
      ]
     },
     "execution_count": 8,
     "metadata": {},
     "output_type": "execute_result"
    }
   ],
   "source": [
    "dataset_model_sub.head()"
   ]
  },
  {
   "cell_type": "code",
   "execution_count": null,
   "metadata": {
    "collapsed": true
   },
   "outputs": [],
   "source": [
    "#convert education,occupation,sex"
   ]
  },
  {
   "cell_type": "code",
   "execution_count": 9,
   "metadata": {},
   "outputs": [
    {
     "data": {
      "text/plain": [
       "array([' Bachelors', ' HS-grad', ' 11th', ' Masters', ' 9th',\n",
       "       ' Some-college', ' Assoc-acdm', ' Assoc-voc', ' 7th-8th',\n",
       "       ' Doctorate', ' Prof-school', ' 5th-6th', ' 10th', ' 1st-4th',\n",
       "       ' Preschool', ' 12th'], dtype=object)"
      ]
     },
     "execution_count": 9,
     "metadata": {},
     "output_type": "execute_result"
    }
   ],
   "source": [
    "dataset_model_sub.education.unique()"
   ]
  },
  {
   "cell_type": "code",
   "execution_count": 10,
   "metadata": {},
   "outputs": [
    {
     "data": {
      "text/plain": [
       "array([' Adm-clerical', ' Exec-managerial', ' Handlers-cleaners',\n",
       "       ' Prof-specialty', ' Other-service', ' Sales', ' Craft-repair',\n",
       "       ' Transport-moving', ' Farming-fishing', ' Machine-op-inspct',\n",
       "       ' Tech-support', ' ?', ' Protective-serv', ' Armed-Forces',\n",
       "       ' Priv-house-serv'], dtype=object)"
      ]
     },
     "execution_count": 10,
     "metadata": {},
     "output_type": "execute_result"
    }
   ],
   "source": [
    "dataset_model_sub.occupation.unique()"
   ]
  },
  {
   "cell_type": "code",
   "execution_count": 11,
   "metadata": {},
   "outputs": [
    {
     "data": {
      "text/plain": [
       "array([' Male', ' Female'], dtype=object)"
      ]
     },
     "execution_count": 11,
     "metadata": {},
     "output_type": "execute_result"
    }
   ],
   "source": [
    "dataset_model_sub.sex.unique()"
   ]
  },
  {
   "cell_type": "code",
   "execution_count": null,
   "metadata": {
    "collapsed": true
   },
   "outputs": [],
   "source": []
  },
  {
   "cell_type": "code",
   "execution_count": null,
   "metadata": {
    "collapsed": true
   },
   "outputs": [],
   "source": []
  },
  {
   "cell_type": "code",
   "execution_count": 50,
   "metadata": {
    "collapsed": true
   },
   "outputs": [],
   "source": [
    "# select only numeric attributes\n",
    "dataset_numeric_attributes = dataset_model.select_dtypes(include=[np.number])"
   ]
  },
  {
   "cell_type": "markdown",
   "metadata": {},
   "source": [
    "The DataFrame.corr() method displays the correlation (or relationship) between the columns. \n",
    "We'll examine the correlations between the features and the target."
   ]
  },
  {
   "cell_type": "code",
   "execution_count": 51,
   "metadata": {},
   "outputs": [
    {
     "name": "stdout",
     "output_type": "stream",
     "text": [
      "income_target     1.000000\n",
      "education_num     0.335154\n",
      "age               0.234037\n",
      "hours_per_week    0.229689\n",
      "fnlwgt           -0.009463\n",
      "Name: income_target, dtype: float64 \n",
      "\n"
     ]
    }
   ],
   "source": [
    "corr = dataset_numeric_attributes.corr()\n",
    "print (corr['income_target'].sort_values(ascending=False)[:10], '\\n')"
   ]
  },
  {
   "cell_type": "markdown",
   "metadata": {},
   "source": [
    "The first 3 features are the most positively correlated with \"income\", while the last one is the most negatively correlated."
   ]
  },
  {
   "cell_type": "code",
   "execution_count": null,
   "metadata": {
    "collapsed": true
   },
   "outputs": [],
   "source": []
  },
  {
   "cell_type": "code",
   "execution_count": 58,
   "metadata": {},
   "outputs": [
    {
     "name": "stdout",
     "output_type": "stream",
     "text": [
      "income                                1.000000\n",
      "marital_status_ Married-civ-spouse    0.444696\n",
      "education_num                         0.335154\n",
      "cat_education_num                     0.327993\n",
      "cat_age                               0.271493\n",
      "cat_hours_per_week                    0.243335\n",
      "age                                   0.234037\n",
      "hours_per_week                        0.229689\n",
      "sex_ Male                             0.215980\n",
      "occupation_ Exec-managerial           0.214861\n",
      "occupation_ Prof-specialty            0.185866\n",
      "education_ Bachelors                  0.180485\n",
      "education_ Masters                    0.174570\n",
      "education_ Prof-school                0.154907\n",
      "workclass_ Self-emp-inc               0.139467\n",
      "education_ Doctorate                  0.132572\n",
      "relationship_ Wife                    0.123264\n",
      "race_ White                           0.085224\n",
      "workclass_ Federal-gov                0.059372\n",
      "workclass_ Local-gov                  0.033091\n",
      "Name: income, dtype: float64 \n",
      "\n"
     ]
    }
   ],
   "source": [
    "numeric_features2 = dataset_model_dum.select_dtypes(include=[np.number])\n",
    "corr2 = numeric_features2.corr()\n",
    "print (corr2['income'].sort_values(ascending=False)[:20], '\\n')"
   ]
  },
  {
   "cell_type": "code",
   "execution_count": null,
   "metadata": {
    "collapsed": true
   },
   "outputs": [],
   "source": []
  },
  {
   "cell_type": "code",
   "execution_count": 59,
   "metadata": {},
   "outputs": [
    {
     "name": "stdout",
     "output_type": "stream",
     "text": [
      "<class 'pandas.core.frame.DataFrame'>\n",
      "RangeIndex: 32561 entries, 0 to 32560\n",
      "Data columns (total 60 columns):\n",
      "age                                      32561 non-null int64\n",
      "education_num                            32561 non-null int64\n",
      "hours_per_week                           32561 non-null int64\n",
      "cat_age                                  32561 non-null int64\n",
      "cat_education_num                        32561 non-null int64\n",
      "cat_hours_per_week                       32561 non-null int64\n",
      "workclass_ Federal-gov                   32561 non-null uint8\n",
      "workclass_ Local-gov                     32561 non-null uint8\n",
      "workclass_ Never-worked                  32561 non-null uint8\n",
      "workclass_ Private                       32561 non-null uint8\n",
      "workclass_ Self-emp-inc                  32561 non-null uint8\n",
      "workclass_ Self-emp-not-inc              32561 non-null uint8\n",
      "workclass_ State-gov                     32561 non-null uint8\n",
      "workclass_ Without-pay                   32561 non-null uint8\n",
      "education_ 11th                          32561 non-null uint8\n",
      "education_ 12th                          32561 non-null uint8\n",
      "education_ 1st-4th                       32561 non-null uint8\n",
      "education_ 5th-6th                       32561 non-null uint8\n",
      "education_ 7th-8th                       32561 non-null uint8\n",
      "education_ 9th                           32561 non-null uint8\n",
      "education_ Assoc-acdm                    32561 non-null uint8\n",
      "education_ Assoc-voc                     32561 non-null uint8\n",
      "education_ Bachelors                     32561 non-null uint8\n",
      "education_ Doctorate                     32561 non-null uint8\n",
      "education_ HS-grad                       32561 non-null uint8\n",
      "education_ Masters                       32561 non-null uint8\n",
      "education_ Preschool                     32561 non-null uint8\n",
      "education_ Prof-school                   32561 non-null uint8\n",
      "education_ Some-college                  32561 non-null uint8\n",
      "marital_status_ Married-AF-spouse        32561 non-null uint8\n",
      "marital_status_ Married-civ-spouse       32561 non-null uint8\n",
      "marital_status_ Married-spouse-absent    32561 non-null uint8\n",
      "marital_status_ Never-married            32561 non-null uint8\n",
      "marital_status_ Separated                32561 non-null uint8\n",
      "marital_status_ Widowed                  32561 non-null uint8\n",
      "occupation_ Adm-clerical                 32561 non-null uint8\n",
      "occupation_ Armed-Forces                 32561 non-null uint8\n",
      "occupation_ Craft-repair                 32561 non-null uint8\n",
      "occupation_ Exec-managerial              32561 non-null uint8\n",
      "occupation_ Farming-fishing              32561 non-null uint8\n",
      "occupation_ Handlers-cleaners            32561 non-null uint8\n",
      "occupation_ Machine-op-inspct            32561 non-null uint8\n",
      "occupation_ Other-service                32561 non-null uint8\n",
      "occupation_ Priv-house-serv              32561 non-null uint8\n",
      "occupation_ Prof-specialty               32561 non-null uint8\n",
      "occupation_ Protective-serv              32561 non-null uint8\n",
      "occupation_ Sales                        32561 non-null uint8\n",
      "occupation_ Tech-support                 32561 non-null uint8\n",
      "occupation_ Transport-moving             32561 non-null uint8\n",
      "relationship_ Not-in-family              32561 non-null uint8\n",
      "relationship_ Other-relative             32561 non-null uint8\n",
      "relationship_ Own-child                  32561 non-null uint8\n",
      "relationship_ Unmarried                  32561 non-null uint8\n",
      "relationship_ Wife                       32561 non-null uint8\n",
      "race_ Asian-Pac-Islander                 32561 non-null uint8\n",
      "race_ Black                              32561 non-null uint8\n",
      "race_ Other                              32561 non-null uint8\n",
      "race_ White                              32561 non-null uint8\n",
      "sex_ Male                                32561 non-null uint8\n",
      "income                                   32561 non-null int64\n",
      "dtypes: int64(7), uint8(53)\n",
      "memory usage: 3.4 MB\n"
     ]
    }
   ],
   "source": [
    "dataset_model_dum.info()"
   ]
  },
  {
   "cell_type": "code",
   "execution_count": null,
   "metadata": {
    "collapsed": true
   },
   "outputs": [],
   "source": []
  },
  {
   "cell_type": "markdown",
   "metadata": {},
   "source": [
    "### Validation Dataset\n",
    "This is a sample of the data that we hold\n",
    "back from our analysis and modeling. We use it right at the end of our project to confirm the\n",
    "accuracy of our final model. It is a smoke test that we can use to see if we messed up and to\n",
    "give us confidence on our estimates of accuracy on unseen data. We will use 80% of the dataset\n",
    "for modeling and hold back 20% for validation."
   ]
  },
  {
   "cell_type": "code",
   "execution_count": 60,
   "metadata": {
    "collapsed": true
   },
   "outputs": [],
   "source": [
    "# Split-out validation dataset\n",
    "array = dataset_model_dum.values\n",
    "X = array[:,0:59].astype(float)\n",
    "Y = array[:,59]\n",
    "validation_size = 0.20\n",
    "seed = 7\n",
    "X_train, X_validation, Y_train, Y_validation = train_test_split(X, Y,\n",
    "test_size=validation_size, random_state=seed)"
   ]
  },
  {
   "cell_type": "markdown",
   "metadata": {},
   "source": [
    "### Evaluate Algorithms: Baseline\n",
    "We don’t know what algorithms will do well on this dataset. Gut feel suggests distance based\n",
    "algorithms like k-Nearest Neighbors and Support Vector Machines may do well. Let’s design\n",
    "our test harness. We will use 10-fold cross-validation. The dataset is not too small and this is\n",
    "a good standard test harness configuration. We will evaluate algorithms using the accuracy\n",
    "metric. This is a gross metric that will give a quick idea of how correct a given model is. More\n",
    "useful on binary classification problems like this one."
   ]
  },
  {
   "cell_type": "code",
   "execution_count": 61,
   "metadata": {
    "collapsed": true
   },
   "outputs": [],
   "source": [
    "# Test options and evaluation metric\n",
    "num_folds = 10\n",
    "seed = 7\n",
    "scoring = 'accuracy'"
   ]
  },
  {
   "cell_type": "markdown",
   "metadata": {},
   "source": [
    "Let’s create a baseline of performance on this problem and spot-check a number of different\n",
    "algorithms. We will select a suite of different algorithms capable of working on this classification\n",
    "problem. \n",
    "\n",
    "The six algorithms selected include:\n",
    "\n",
    "Linear Algorithms: Logistic Regression (LR) and Linear Discriminant Analysis (LDA).\n",
    "\n",
    "Nonlinear Algorithms: Classification and Regression Trees (CART), Support Vector\n",
    "Machines (SVM), Gaussian Naive Bayes (NB) and k-Nearest Neighbors (KNN)."
   ]
  },
  {
   "cell_type": "code",
   "execution_count": 62,
   "metadata": {
    "collapsed": true
   },
   "outputs": [],
   "source": [
    "# Spot-Check Algorithms\n",
    "models = []\n",
    "models.append(( 'LR' , LogisticRegression()))\n",
    "models.append(( 'LDA' , LinearDiscriminantAnalysis()))\n",
    "models.append(( 'KNN' , KNeighborsClassifier()))\n",
    "models.append(( 'CART' , DecisionTreeClassifier()))\n",
    "models.append(( 'NB' , GaussianNB()))\n",
    "models.append(( 'SVM' , SVC()))"
   ]
  },
  {
   "cell_type": "markdown",
   "metadata": {},
   "source": [
    "The algorithms all use default tuning parameters. Let’s compare the algorithms. We will\n",
    "display the mean and standard deviation of accuracy for each algorithm as we calculate it and\n",
    "collect the results for use later."
   ]
  },
  {
   "cell_type": "code",
   "execution_count": 63,
   "metadata": {},
   "outputs": [
    {
     "name": "stdout",
     "output_type": "stream",
     "text": [
      "LR: 0.836955 (0.009494)\n"
     ]
    },
    {
     "name": "stderr",
     "output_type": "stream",
     "text": [
      "/Users/segunadelowo/miniconda3/lib/python3.6/site-packages/sklearn/discriminant_analysis.py:388: UserWarning: Variables are collinear.\n",
      "  warnings.warn(\"Variables are collinear.\")\n",
      "/Users/segunadelowo/miniconda3/lib/python3.6/site-packages/sklearn/discriminant_analysis.py:388: UserWarning: Variables are collinear.\n",
      "  warnings.warn(\"Variables are collinear.\")\n",
      "/Users/segunadelowo/miniconda3/lib/python3.6/site-packages/sklearn/discriminant_analysis.py:388: UserWarning: Variables are collinear.\n",
      "  warnings.warn(\"Variables are collinear.\")\n",
      "/Users/segunadelowo/miniconda3/lib/python3.6/site-packages/sklearn/discriminant_analysis.py:388: UserWarning: Variables are collinear.\n",
      "  warnings.warn(\"Variables are collinear.\")\n",
      "/Users/segunadelowo/miniconda3/lib/python3.6/site-packages/sklearn/discriminant_analysis.py:388: UserWarning: Variables are collinear.\n",
      "  warnings.warn(\"Variables are collinear.\")\n",
      "/Users/segunadelowo/miniconda3/lib/python3.6/site-packages/sklearn/discriminant_analysis.py:388: UserWarning: Variables are collinear.\n",
      "  warnings.warn(\"Variables are collinear.\")\n",
      "/Users/segunadelowo/miniconda3/lib/python3.6/site-packages/sklearn/discriminant_analysis.py:388: UserWarning: Variables are collinear.\n",
      "  warnings.warn(\"Variables are collinear.\")\n",
      "/Users/segunadelowo/miniconda3/lib/python3.6/site-packages/sklearn/discriminant_analysis.py:388: UserWarning: Variables are collinear.\n",
      "  warnings.warn(\"Variables are collinear.\")\n",
      "/Users/segunadelowo/miniconda3/lib/python3.6/site-packages/sklearn/discriminant_analysis.py:388: UserWarning: Variables are collinear.\n",
      "  warnings.warn(\"Variables are collinear.\")\n",
      "/Users/segunadelowo/miniconda3/lib/python3.6/site-packages/sklearn/discriminant_analysis.py:388: UserWarning: Variables are collinear.\n",
      "  warnings.warn(\"Variables are collinear.\")\n"
     ]
    },
    {
     "name": "stdout",
     "output_type": "stream",
     "text": [
      "LDA: 0.834651 (0.009870)\n",
      "KNN: 0.800830 (0.008281)\n",
      "CART: 0.783515 (0.006921)\n",
      "NB: 0.615670 (0.011272)\n",
      "SVM: 0.831196 (0.009184)\n"
     ]
    }
   ],
   "source": [
    "results = []\n",
    "names = []\n",
    "for name, model in models:\n",
    "    kfold = KFold(n_splits=num_folds, random_state=seed)\n",
    "    cv_results = cross_val_score(model, X_train, Y_train, cv=kfold, scoring=scoring)\n",
    "    results.append(cv_results)\n",
    "    names.append(name)\n",
    "    msg = \"%s: %f (%f)\" % (name, cv_results.mean(), cv_results.std())\n",
    "    print(msg)"
   ]
  },
  {
   "cell_type": "markdown",
   "metadata": {
    "collapsed": true
   },
   "source": [
    "Logistic Regression has the best accuracy score followed by SVM.\n",
    "The variables that are collinear need to be looked into.\n",
    "The algorithm results are mean accuracy values. Looking at the distribution of accuracy values calculated across cross-validation folds will give a better understanding about the algorithm performance. The box and whisker plots can be used to achieve this."
   ]
  },
  {
   "cell_type": "markdown",
   "metadata": {},
   "source": [
    "The results of LR and SVM improved after using increasing num_folds from 5 to 10, but increasing it to 15 didnt result in any improvement"
   ]
  },
  {
   "cell_type": "code",
   "execution_count": 64,
   "metadata": {},
   "outputs": [
    {
     "data": {
      "image/png": "[encoded data removed]",
      "text/plain": [
       "<matplotlib.figure.Figure at 0x10fddc3c8>"
      ]
     },
     "metadata": {},
     "output_type": "display_data"
    }
   ],
   "source": [
    "# Compare Algorithms\n",
    "fig = plt.figure(figsize=(8,7))\n",
    "fig.suptitle('Algorithm Comparison')\n",
    "ax = fig.add_subplot(111)\n",
    "plt.boxplot(results)\n",
    "ax.set_xticklabels(names)\n",
    "plt.show()"
   ]
  },
  {
   "cell_type": "markdown",
   "metadata": {},
   "source": []
  },
  {
   "cell_type": "markdown",
   "metadata": {
    "collapsed": true
   },
   "source": [
    "The results shows an ecouraging distribution for LR, this suggests low variance. NB really has poor results."
   ]
  },
  {
   "cell_type": "code",
   "execution_count": null,
   "metadata": {
    "collapsed": true
   },
   "outputs": [],
   "source": []
  },
  {
   "cell_type": "code",
   "execution_count": null,
   "metadata": {
    "collapsed": true
   },
   "outputs": [],
   "source": []
  },
  {
   "cell_type": "code",
   "execution_count": null,
   "metadata": {
    "collapsed": true
   },
   "outputs": [],
   "source": []
  },
  {
   "cell_type": "code",
   "execution_count": null,
   "metadata": {
    "collapsed": true
   },
   "outputs": [],
   "source": []
  },
  {
   "cell_type": "code",
   "execution_count": null,
   "metadata": {
    "collapsed": true
   },
   "outputs": [],
   "source": []
  },
  {
   "cell_type": "code",
   "execution_count": null,
   "metadata": {
    "collapsed": true
   },
   "outputs": [],
   "source": []
  }
 ],
 "metadata": {
  "kernelspec": {
   "display_name": "Python 3",
   "language": "python",
   "name": "python3"
  },
  "language_info": {
   "codemirror_mode": {
    "name": "ipython",
    "version": 3
   },
   "file_extension": ".py",
   "mimetype": "text/x-python",
   "name": "python",
   "nbconvert_exporter": "python",
   "pygments_lexer": "ipython3",
   "version": "3.6.3"
  }
 },
 "nbformat": 4,
 "nbformat_minor": 2
}
